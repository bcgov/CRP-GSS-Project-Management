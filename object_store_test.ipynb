{
 "cells": [
  {
   "cell_type": "code",
   "execution_count": 1,
   "id": "691a864c",
   "metadata": {},
   "outputs": [],
   "source": [
    "from dotenv import load_dotenv\n",
    "import json\n",
    "import boto3 \n",
    "import os\n",
    "\n",
    "load_dotenv()\n",
    "\n",
    "AWS_ACCESS_KEY_ID = os.environ[\"AWS_ACCESS_KEY_ID\"]\n",
    "AWS_SECRET_ACCESS_KEY = os.environ[\"AWS_SECRET_ACCESS_KEY\"]\n",
    "AWS_S3_ENDPOINT = os.environ[\"AWS_S3_ENDPOINT\"]\n",
    "AWS_S3_BUCKET = os.environ[\"AWS_S3_BUCKET\"]"
   ]
  },
  {
   "cell_type": "code",
   "execution_count": 2,
   "id": "a8f435aa",
   "metadata": {},
   "outputs": [],
   "source": [
    "s3 = boto3.resource(\"s3\",    \n",
    "    endpoint_url=AWS_S3_ENDPOINT,\n",
    "    aws_access_key_id=AWS_ACCESS_KEY_ID,\n",
    "    aws_secret_access_key=AWS_SECRET_ACCESS_KEY,\n",
    ")\n"
   ]
  },
  {
   "cell_type": "code",
   "execution_count": 3,
   "id": "f1cee215",
   "metadata": {},
   "outputs": [],
   "source": [
    "status_path=r'crp/crp-project-managment/project_status_overrides.json'\n",
    "projects_path=r'crp/crp-project-managment/projects_for_cole_folkers.json'"
   ]
  },
  {
   "cell_type": "code",
   "execution_count": 4,
   "id": "764c8e85",
   "metadata": {},
   "outputs": [],
   "source": [
    "content_object = s3.Object(AWS_S3_BUCKET, status_path)\n",
    "file_content = content_object.get()['Body'].read().decode('utf-8')\n",
    "json_content = json.loads(file_content)"
   ]
  },
  {
   "cell_type": "code",
   "execution_count": 11,
   "id": "5ed9f884",
   "metadata": {},
   "outputs": [
    {
     "name": "stdout",
     "output_type": "stream",
     "text": [
      "endpoint: https://nrs.objectstore.gov.bc.ca:443\n",
      "bucket: gsslupi\n",
      "key: crp/crp-project-managment/test.txt\n",
      "key len: 34\n"
     ]
    }
   ],
   "source": [
    "print(\"endpoint:\", AWS_S3_ENDPOINT)\n",
    "print(\"bucket:\", AWS_S3_BUCKET)\n",
    "print(\"key:\", test_path)\n",
    "print(\"key len:\", len(test_path))"
   ]
  },
  {
   "cell_type": "code",
   "execution_count": 12,
   "id": "e0d27c6d",
   "metadata": {},
   "outputs": [
    {
     "name": "stdout",
     "output_type": "stream",
     "text": [
      "put_object response: {'RequestId': '8e22ee0c:19940bb8bfb:9ae86:5d91', 'HostId': 'b072b7675456ef3c06d4d689dbaf4fc9d0cea63796dad0c3f338db787ba48275', 'HTTPStatusCode': 200, 'HTTPHeaders': {'date': 'Tue, 28 Oct 2025 20:23:57 GMT', 'server': 'ViPR/1.0', 'x-amz-request-id': '8e22ee0c:19940bb8bfb:9ae86:5d91', 'x-amz-id-2': 'b072b7675456ef3c06d4d689dbaf4fc9d0cea63796dad0c3f338db787ba48275', 'etag': '\"297a915950f14e8c402910a4786e97cb\"', 'last-modified': 'Tue, 28 Oct 2025 20:23:57 GMT', 'x-emc-mtime': '1761683037599', 'x-emc-previous-object-size': '0', 'x-amz-version-id': '1761683037599', 'content-length': '0'}, 'RetryAttempts': 0}\n"
     ]
    }
   ],
   "source": [
    "test_path=r'crp/crp-project-managment/test.txt'\n",
    "\n",
    "# use third party object storage to create an S3 Client\n",
    "s3_client = boto3.client(\n",
    "    \"s3\",\n",
    "    endpoint_url=AWS_S3_ENDPOINT,\n",
    "    aws_access_key_id=AWS_ACCESS_KEY_ID,\n",
    "    aws_secret_access_key=AWS_SECRET_ACCESS_KEY,\n",
    ")\n",
    "bucket = AWS_S3_BUCKET\n",
    "\n",
    "# specify the folder path (in the current working directory) for your object \n",
    "# if the folder doesn't exist, create it\n",
    "save_path = os.path.join(os.getcwd(), r'junk')\n",
    "if not os.path.exists(save_path):\n",
    "    os.makedirs(save_path)\n",
    "\n",
    "# create new text file within the folder\n",
    "dest_file_path = os.path.join(save_path, r'test.txt')\n",
    "\n",
    "# write data to the new text file\n",
    "with open(dest_file_path, \"rb\") as fh:\n",
    "    resp = s3_client.put_object(Bucket=bucket, Key=test_path, Body=fh)\n",
    "print(\"put_object response:\", resp.get(\"ResponseMetadata\", {}))\n",
    "\n",
    "# s3_client.upload_file(dest_file_path, bucket, test_path)"
   ]
  },
  {
   "cell_type": "code",
   "execution_count": 17,
   "id": "4430eb3f",
   "metadata": {},
   "outputs": [
    {
     "name": "stdout",
     "output_type": "stream",
     "text": [
      "head_object ok: 200\n",
      "remote content preview: [\n",
      "  {\n",
      "    \"OBJECTID\": 3994,\n",
      "    \"GlobalID\": \"c396af8a-8cd3-4301-8322-12675fac41f5\",\n",
      "    \"Request_Type\": \"Other Geospatial\",\n",
      "    \"Project_Name\": \"CRP- DU9 Southern Mtn. Caribou Road Restoration Dashboa\n"
     ]
    }
   ],
   "source": [
    "try:\n",
    "    head = s3_client.head_object(Bucket=bucket, Key=projects_path)\n",
    "    print(\"head_object ok:\", head.get(\"ResponseMetadata\", {}).get(\"HTTPStatusCode\"))\n",
    "    # optionally read small content\n",
    "    resp = s3_client.get_object(Bucket=bucket, Key=projects_path)\n",
    "    body = resp[\"Body\"].read().decode(\"utf-8\")\n",
    "    print(\"remote content preview:\", body[:200])\n",
    "except Exception as e:\n",
    "    print(\"head/get failed:\", repr(e))"
   ]
  },
  {
   "cell_type": "code",
   "execution_count": 15,
   "id": "4494ad24",
   "metadata": {},
   "outputs": [
    {
     "name": "stdout",
     "output_type": "stream",
     "text": [
      "crp/crp-project-managment/_$folder$\n",
      "0\n",
      "crp/crp-project-managment/project_status_overrides.json\n",
      "8630\n",
      "crp/crp-project-managment/projects_for_cole_folkers.json\n",
      "36592\n",
      "crp/crp-project-managment/test.json\n",
      "0\n",
      "crp/crp-project-managment/test.txt\n",
      "24\n"
     ]
    }
   ],
   "source": [
    "#list contents of bucket \n",
    "response = s3_client.list_objects_v2(Bucket=bucket, Prefix='crp/crp-project-managment/')\n",
    "\n",
    "if 'Contents' in response:\n",
    "    # Iterate over objects and print their names\n",
    "    for obj in response['Contents']:\n",
    "        print(obj['Key'])\n",
    "        print(obj['Size'])\n",
    "else:\n",
    "    print(\"No objects found in the bucket.\")"
   ]
  }
 ],
 "metadata": {
  "kernelspec": {
   "display_name": "stac_tools",
   "language": "python",
   "name": "python3"
  },
  "language_info": {
   "codemirror_mode": {
    "name": "ipython",
    "version": 3
   },
   "file_extension": ".py",
   "mimetype": "text/x-python",
   "name": "python",
   "nbconvert_exporter": "python",
   "pygments_lexer": "ipython3",
   "version": "3.11.11"
  }
 },
 "nbformat": 4,
 "nbformat_minor": 5
}
