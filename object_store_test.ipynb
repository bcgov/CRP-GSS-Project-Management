{
 "cells": [
  {
   "cell_type": "code",
   "execution_count": null,
   "id": "691a864c",
   "metadata": {},
   "outputs": [],
   "source": [
    "from dotenv import load_dotenv\n",
    "import json\n",
    "import boto3 \n",
    "import os\n",
    "\n",
    "load_dotenv()\n",
    "\n",
    "AWS_ACCESS_KEY_ID = os.environ[\"AWS_ACCESS_KEY_ID\"]\n",
    "AWS_SECRET_ACCESS_KEY = os.environ[\"AWS_SECRET_ACCESS_KEY\"]\n",
    "AWS_S3_ENDPOINT = os.environ[\"AWS_S3_ENDPOINT\"]\n",
    "AWS_S3_BUCKET = os.environ[\"AWS_S3_BUCKET\"]"
   ]
  },
  {
   "cell_type": "code",
   "execution_count": null,
   "id": "a8f435aa",
   "metadata": {},
   "outputs": [],
   "source": [
    "s3 = boto3.resource(\"s3\",    \n",
    "    endpoint_url=AWS_S3_ENDPOINT,\n",
    "    aws_access_key_id=AWS_ACCESS_KEY_ID,\n",
    "    aws_secret_access_key=AWS_SECRET_ACCESS_KEY,\n",
    ")\n"
   ]
  },
  {
   "cell_type": "code",
   "execution_count": null,
   "id": "f1cee215",
   "metadata": {},
   "outputs": [],
   "source": [
    "status_path=r'crp/crp-project-managment/project_status_overrides.json'\n",
    "projects_path=r'crp/crp-project-managment/projects_for_cole_folkers.json'"
   ]
  },
  {
   "cell_type": "code",
   "execution_count": null,
   "id": "764c8e85",
   "metadata": {},
   "outputs": [],
   "source": [
    "content_object = s3.Object(AWS_S3_BUCKET, status_path)\n",
    "file_content = content_object.get()['Body'].read().decode('utf-8')\n",
    "json_content = json.loads(file_content)"
   ]
  },
  {
   "cell_type": "code",
   "execution_count": null,
   "id": "5ed9f884",
   "metadata": {},
   "outputs": [],
   "source": [
    "print(\"endpoint:\", AWS_S3_ENDPOINT)\n",
    "print(\"bucket:\", AWS_S3_BUCKET)\n",
    "print(\"key:\", test_path)\n",
    "print(\"key len:\", len(test_path))"
   ]
  },
  {
   "cell_type": "code",
   "execution_count": null,
   "id": "e0d27c6d",
   "metadata": {},
   "outputs": [],
   "source": [
    "test_path=r'crp/crp-project-managment/test.txt'\n",
    "\n",
    "# use third party object storage to create an S3 Client\n",
    "s3_client = boto3.client(\n",
    "    \"s3\",\n",
    "    endpoint_url=AWS_S3_ENDPOINT,\n",
    "    aws_access_key_id=AWS_ACCESS_KEY_ID,\n",
    "    aws_secret_access_key=AWS_SECRET_ACCESS_KEY,\n",
    ")\n",
    "bucket = AWS_S3_BUCKET\n",
    "\n",
    "# specify the folder path (in the current working directory) for your object \n",
    "# if the folder doesn't exist, create it\n",
    "save_path = os.path.join(os.getcwd(), r'junk')\n",
    "if not os.path.exists(save_path):\n",
    "    os.makedirs(save_path)\n",
    "\n",
    "# create new text file within the folder\n",
    "dest_file_path = os.path.join(save_path, r'test.txt')\n",
    "\n",
    "# write data to the new text file\n",
    "with open(dest_file_path, \"rb\") as fh:\n",
    "    resp = s3_client.put_object(Bucket=bucket, Key=test_path, Body=fh)\n",
    "print(\"put_object response:\", resp.get(\"ResponseMetadata\", {}))\n",
    "\n",
    "# s3_client.upload_file(dest_file_path, bucket, test_path)"
   ]
  },
  {
   "cell_type": "code",
   "execution_count": null,
   "id": "4430eb3f",
   "metadata": {},
   "outputs": [],
   "source": [
    "try:\n",
    "    head = s3_client.head_object(Bucket=bucket, Key=projects_path)\n",
    "    print(\"head_object ok:\", head.get(\"ResponseMetadata\", {}).get(\"HTTPStatusCode\"))\n",
    "    # optionally read small content\n",
    "    resp = s3_client.get_object(Bucket=bucket, Key=projects_path)\n",
    "    body = resp[\"Body\"].read().decode(\"utf-8\")\n",
    "    print(\"remote content preview:\", body[:200])\n",
    "except Exception as e:\n",
    "    print(\"head/get failed:\", repr(e))"
   ]
  },
  {
   "cell_type": "code",
   "execution_count": null,
   "id": "4494ad24",
   "metadata": {},
   "outputs": [],
   "source": [
    "#list contents of bucket \n",
    "response = s3_client.list_objects_v2(Bucket=bucket, Prefix='crp/crp-project-managment/')\n",
    "\n",
    "if 'Contents' in response:\n",
    "    # Iterate over objects and print their names\n",
    "    for obj in response['Contents']:\n",
    "        print(obj['Key'])\n",
    "        print(obj['Size'])\n",
    "else:\n",
    "    print(\"No objects found in the bucket.\")"
   ]
  }
 ],
 "metadata": {
  "kernelspec": {
   "display_name": "stac_tools",
   "language": "python",
   "name": "python3"
  },
  "language_info": {
   "codemirror_mode": {
    "name": "ipython",
    "version": 3
   },
   "file_extension": ".py",
   "mimetype": "text/x-python",
   "name": "python",
   "nbconvert_exporter": "python",
   "pygments_lexer": "ipython3",
   "version": "3.11.11"
  }
 },
 "nbformat": 4,
 "nbformat_minor": 5
}
